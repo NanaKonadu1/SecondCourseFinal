{
    "cells": [
        {
            "metadata": {
                "collapsed": true
            },
            "cell_type": "markdown",
            "source": "# My Jupyter Notebook on IBM Watson Studio"
        },
        {
            "metadata": {},
            "cell_type": "markdown",
            "source": "**Nana K. Ewusi-Emmim**\n\nI am currently a cytogenetic technologist."
        },
        {
            "metadata": {},
            "cell_type": "markdown",
            "source": "*I am interested in data science because I like analzying data to find valuable inisght.*"
        },
        {
            "metadata": {},
            "cell_type": "markdown",
            "source": "### The code below adds three and two together."
        },
        {
            "metadata": {},
            "cell_type": "code",
            "source": "print(3+2)",
            "execution_count": 1,
            "outputs": [
                {
                    "output_type": "stream",
                    "text": "5\n",
                    "name": "stdout"
                }
            ]
        },
        {
            "metadata": {},
            "cell_type": "markdown",
            "source": "Honey   | Pepper | Lemon\n--------|--------|---------\n*Sweet* | `Spicy`| **Sour**\n1       | 2      | 3\n\n~~sour~~\n\n- zero\n- one\n- two\n\n1. one\n2. two\n3. three"
        }
    ],
    "metadata": {
        "kernelspec": {
            "name": "python3",
            "display_name": "Python 3.10",
            "language": "python"
        },
        "language_info": {
            "name": "python",
            "version": "3.10.6",
            "mimetype": "text/x-python",
            "codemirror_mode": {
                "name": "ipython",
                "version": 3
            },
            "pygments_lexer": "ipython3",
            "nbconvert_exporter": "python",
            "file_extension": ".py"
        }
    },
    "nbformat": 4,
    "nbformat_minor": 1
}